{
 "cells": [
  {
   "cell_type": "markdown",
   "metadata": {},
   "source": [
    "# Name:Ali Nahle\n",
    "# Tp3: MultiClass Logistic Regression"
   ]
  },
  {
   "cell_type": "markdown",
   "metadata": {},
   "source": [
    "### Importing packages and loading the dataset"
   ]
  },
  {
   "cell_type": "code",
   "execution_count": 1,
   "metadata": {},
   "outputs": [],
   "source": [
    "import numpy as np\n",
    "from sklearn.datasets import load_digits\n",
    "from sklearn.model_selection import train_test_split\n",
    "from numpy import array\n",
    "from numpy import argmax\n",
    "from sklearn.preprocessing import LabelEncoder\n",
    "from sklearn.preprocessing import OneHotEncoder\n",
    "from numpy import *\n",
    "n_class = 10\n",
    "X,y = load_digits(n_class=n_class , return_X_y=True)"
   ]
  },
  {
   "cell_type": "markdown",
   "metadata": {},
   "source": [
    "### Exploring X and y"
   ]
  },
  {
   "cell_type": "code",
   "execution_count": 2,
   "metadata": {},
   "outputs": [
    {
     "name": "stdout",
     "output_type": "stream",
     "text": [
      "[0 1 2 ... 8 9 8]\n"
     ]
    }
   ],
   "source": [
    "print(y)"
   ]
  },
  {
   "cell_type": "code",
   "execution_count": 3,
   "metadata": {},
   "outputs": [
    {
     "name": "stdout",
     "output_type": "stream",
     "text": [
      "(1797, 64)\n"
     ]
    }
   ],
   "source": [
    "print(X.shape)"
   ]
  },
  {
   "cell_type": "code",
   "execution_count": 4,
   "metadata": {},
   "outputs": [],
   "source": [
    "X_train, X_test, y_train, y_test=train_test_split(X, y, test_size=0.33, random_state=42)"
   ]
  },
  {
   "cell_type": "markdown",
   "metadata": {},
   "source": [
    "### Helper Functions"
   ]
  },
  {
   "cell_type": "code",
   "execution_count": 5,
   "metadata": {},
   "outputs": [],
   "source": [
    "def oneHotEncodage(y):\n",
    "    values = array(y)\n",
    "\n",
    "    onehot_encoder = OneHotEncoder(sparse=False)\n",
    "    values = values.reshape(len(values), 1)\n",
    "    onehot_encoded = onehot_encoder.fit_transform(values)\n",
    "    return onehot_encoded"
   ]
  },
  {
   "cell_type": "markdown",
   "metadata": {},
   "source": [
    "cette fonction fera le codage one-hot pour le tableau y, et le transformera en 2d tableaux de taille (len(y),n_classes),où chaque tableau contient les probabilités d'appartenance à une classe.\n",
    "\n",
    "par exemple : si la valeur initiale était 2 (la classe est 2 ), cette fonction le transformera en un tableau de zéros où seul array[2]=1."
   ]
  },
  {
   "cell_type": "code",
   "execution_count": 6,
   "metadata": {},
   "outputs": [],
   "source": [
    "def softmax(z):\n",
    "    z -= np.max(z)\n",
    "    return np.exp(z) / np.sum(np.exp(z), axis=1).reshape(-1,1)\n"
   ]
  },
  {
   "attachments": {
    "softmax_function.svg": {
     "image/svg+xml": [
      "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"
     ]
    }
   },
   "cell_type": "markdown",
   "metadata": {},
   "source": [
    "la fonction softmax appliquera l'équation de softmax (probabilité d'être dans chaque classe) qui a été énoncée dans la classe. \n",
    "L'équation est :![softmax_function.svg](attachment:softmax_function.svg)"
   ]
  },
  {
   "cell_type": "code",
   "execution_count": 7,
   "metadata": {},
   "outputs": [],
   "source": [
    "def get_prob_pred(X,W):\n",
    "    z=X@np.transpose(W)\n",
    "    probs=softmax(z)\n",
    "    preds=np.zeros(len(probs))\n",
    "    for i in range(len(probs)):\n",
    "        preds[i]=np.where(probs[i]==[np.amax(probs[i])])[0][0]\n",
    "    return probs , preds"
   ]
  },
  {
   "cell_type": "markdown",
   "metadata": {},
   "source": [
    "cette fonction récupère les probabilités de la fonction softmax et les transforme en un tableau de 1d où la valeur de chaque indice i est (indice de max(probs[i]))."
   ]
  },
  {
   "cell_type": "code",
   "execution_count": 8,
   "metadata": {},
   "outputs": [],
   "source": [
    "def score(yhat, y):\n",
    "        return (np.mean(yhat== y))*100"
   ]
  },
  {
   "cell_type": "markdown",
   "metadata": {},
   "source": [
    "cette fonction compare nos prédictions avec y et renvoie la précision"
   ]
  },
  {
   "cell_type": "code",
   "execution_count": 9,
   "metadata": {},
   "outputs": [],
   "source": [
    "def get_loss_grad(W,X,y,lam):\n",
    "    # convert the integer class coding into a one hot representation\n",
    "    scores = X@np.transpose(W) # compute raw class scores given our input and current weights\n",
    "    prob = softmax(scores) # perform a softmax on these scores to get their probabilities\n",
    "    loss=0\n",
    "    grad=np.zeros(shape=(10,X.shape[1]))\n",
    "    loss=np.mean(y_mat * np.log(prob+0.00001))+(lam/2)*(W*W).sum()\n",
    "    grad=np.dot(np.transpose(prob-y_mat),X)+ lam*W\n",
    "#     for i in range(10):\n",
    "#         for j in range(X.shape[0]):\n",
    "#             loss+=y_mat[j][i]*np.log(prob[j][i]+0.000001)\n",
    "            #grad[i]+=X[j]*(prob[j][i]-y_mat[j][i])\n",
    "            \n",
    "          \n",
    "    return -loss , grad\n"
   ]
  },
  {
   "cell_type": "markdown",
   "metadata": {},
   "source": [
    "la fonction ci-dessus calcule à la fois la perte et le gradient en utilisant les formules suivantes :\n",
    "\n",
    "la fonction de perte est :\n",
    "\n",
    "$$L = -\\frac{1}{n} \\sum\\limits_{i=1}^{n}\\sum\\limits_{j=1}^{C} y_{i,j}\\log(p_{i,j})$$\n",
    "\n",
    "where:\n",
    "- n est le nombre d’instances d’apprentissage\n",
    "- C est le nombre de classes\n",
    "-  $p_{i,k} $ est la probabilité de l’instance i d’appartenir à la classe k exprimé par la fonction softmax.\n",
    "\n",
    "Maintenant, le gradient est calculé comme suit :\n",
    "$$\\nabla_{W_k} L = -\\frac{1}{n} \\sum\\limits_{i=1}^{n}\\sum\\limits_{j=1}^{C}y_{i,j} \\frac{1}{p_{i,j}} \\frac{\\partial p_{i,j}}{\\partial z_{i,k}} \\frac{\\partial z_{i,k}}{\\partial W_{k}} $$\n",
    "\n",
    "nous devons résoudre ces deux équations :\n",
    "- $ \\frac{\\partial p_{i,j}}{\\partial z_{i,k}}$ \n",
    "- $ \\frac{\\partial z_{i,k}}{\\partial W_{k}} $\n",
    "\n",
    "où le $ \\frac{\\partial z_{i,k}}{\\partial W_{k}} $ = $ {x_{i}} $\n",
    "\n",
    "Mais $ \\frac{\\partial p_{i,j}}{\\partial z_{i,k}}$  a 2 cas : quand $j \\neq k$(1) et quand j = k (2).\n",
    "\n",
    "the first case : quand $j \\neq k$ (1) :\n",
    "$ \\frac{\\partial p_{i,j}}{\\partial z_{i,k}}$ = $$ \\frac{\\partial}{\\partial z_{i,k}} \\frac{ exp(z_{i,j})}{\\sum_k\\exp(z_k)} \n",
    "= \\frac{0 * \\sum_k\\exp(z_k) - exp(z_{i,j}) \\exp(z_{i,k}) ) }{\\left(\\sum_k\\exp(z_k)\\right)^2} \n",
    "\\\\ = \\frac{ - \\exp(z_{i,j}) }{\\sum_k\\exp(z_k)} \\frac{ \\exp(z_{i,k}) }{\\sum_k\\exp(z_k)}\n",
    "\\\\ = - p_{i,j} p_{i,k}$$\n",
    "\n",
    "\n",
    "the second case: quand j = k (2): \n",
    "$ \\frac{\\partial p_{i,j}}{\\partial z_{i,k}}$ = $$ \\frac{\\partial}{\\partial z_{i,k}} \\frac{ exp(z_{i,j})}{\\sum_k\\exp(z_k)} \n",
    "= \\frac{\\exp(z_{i,j}) * \\sum_k\\exp(z_i) - exp(z_{i,j}) \\exp(z_{i,j}) ) }{\\left(\\sum_k\\exp(z_k)\\right)^2} \n",
    "\\\\= \\frac{\\exp(z_{i,j}) * \\sum_k\\exp(z_i)}{{\\left(\\sum_k\\exp(z_k)\\right)^2}}-\\frac{exp(z_{i,j}) \\exp(z_{i,j})}{{\\left(\\sum_k\\exp(z_k)\\right)^2}} \n",
    "\\\\= \\frac{\\exp(z_{i,j})}{{\\sum_k\\exp(z_k)}} - \\frac{\\left(\\exp(z_{i,j})\\right)^2}{{\\left(\\sum_k\\exp(z_k)\\right)^2}}\n",
    "\\\\= p_{i,k} - \\left((p_{i,k}) \\right)^2 \n",
    "\\\\=p_{i,k} (1-p_{i,k}) $$\n",
    "\n",
    "maintenant on a:\n",
    "\n",
    "$$\\nabla_{W_k} L = -\\frac{1}{n} \\sum\\limits_{i=1}^{n}x_{i} ((2)+\\sum\\limits_{j=1, j \\neq k}^{C}(1)) \n",
    "\\\\= -\\frac{1}{n} \\sum\\limits_{i=1}^{n} x_{i} (y_{i,k}-p_{i,k}) $$\n",
    "\n",
    "\n",
    "et pour minimiser la fonction de cout on ajoute un terme de regularization (lam/2)* W^2 au cout et lam*W(derive) sur la fonction de gradient "
   ]
  },
  {
   "cell_type": "code",
   "execution_count": 10,
   "metadata": {},
   "outputs": [],
   "source": [
    "def CalculateW(nb_epochs,X,y,lam):\n",
    "    W=np.zeros(shape=(10,X.shape[1]+1))\n",
    "    X1= np.ones((X.shape[0],X.shape[1]+1))\n",
    "    X1[:,:-1] = X\n",
    "    loss=np.zeros(nb_epochs)\n",
    "    for epoch in range(nb_epochs):\n",
    "        \n",
    "        loss[epoch],grad=get_loss_grad(W,X1,y,lam)\n",
    "        W=W-(lam*grad)\n",
    "#         for i in range(10):\n",
    "#             W[i]=W[i]-grad[i]*lam*loss[epoch]\n",
    "    loss[epoch],grad=get_loss_grad(W,X1,y,lam)\n",
    "    probs,preds=get_prob_pred(X1,W) \n",
    "    return W,loss,probs,preds\n",
    "        "
   ]
  },
  {
   "cell_type": "markdown",
   "metadata": {},
   "source": [
    "cette fonction prend comme paramètres nb_epochs X y et lam(learning_rate), puis génère les poids comme des zéros au début, et ensuite dans la boucle, nous calculons la perte et le grad de ces poids, mettre à jour les poids en fonction de cette formule : \n",
    "\n",
    "W=W-(lambda*grad)\n",
    "\n",
    "et la fonction nous renvoie les poids, un tableau qui suit la perte, nos prédictions (probabilités et prédictions de classe).\n",
    "\n"
   ]
  },
  {
   "cell_type": "code",
   "execution_count": 11,
   "metadata": {},
   "outputs": [],
   "source": [
    "y_mat = oneHotEncodage(y_train)\n",
    "W,loss,probs,preds=CalculateW(1000,X_train,y_mat,0.00001)"
   ]
  },
  {
   "cell_type": "code",
   "execution_count": 12,
   "metadata": {},
   "outputs": [
    {
     "data": {
      "text/plain": [
       "99.66749792186201"
      ]
     },
     "execution_count": 12,
     "metadata": {},
     "output_type": "execute_result"
    }
   ],
   "source": [
    "score(preds,y_train)"
   ]
  },
  {
   "cell_type": "markdown",
   "metadata": {},
   "source": [
    "C'est le score que nous avons obtenu (précision)99.66%, et on reste a un erreur de 0.33%"
   ]
  },
  {
   "cell_type": "code",
   "execution_count": 13,
   "metadata": {},
   "outputs": [
    {
     "data": {
      "image/png": "[encoded data removed]",
      "text/plain": [
       "<Figure size 576x432 with 1 Axes>"
      ]
     },
     "metadata": {
      "needs_background": "light"
     },
     "output_type": "display_data"
    }
   ],
   "source": [
    "import matplotlib.pyplot as plt\n",
    "fig = plt.figure(figsize=(8,6))\n",
    "plt.plot(np.arange(len(loss)), loss)\n",
    "plt.title(\"Development of loss during training\")\n",
    "plt.xlabel(\"Number of iterations\")\n",
    "plt.ylabel(\"Loss\")\n",
    "plt.show()"
   ]
  },
  {
   "cell_type": "code",
   "execution_count": 14,
   "metadata": {
    "scrolled": true
   },
   "outputs": [
    {
     "name": "stdout",
     "output_type": "stream",
     "text": [
      "precision=  100.0\n"
     ]
    },
    {
     "data": {
      "image/png": "[encoded data removed]",
      "text/plain": [
       "<Figure size 576x432 with 1 Axes>"
      ]
     },
     "metadata": {
      "needs_background": "light"
     },
     "output_type": "display_data"
    }
   ],
   "source": [
    "\n",
    "W1,loss1,probs1,preds1=CalculateW(4000,X_train,y_mat,0.00001)\n",
    "print(\"precision= \",score(preds1,y_train))\n",
    "fig = plt.figure(figsize=(8,6))\n",
    "plt.plot(np.arange(len(loss1)), loss1)\n",
    "plt.title(\"Development of loss during training\")\n",
    "plt.xlabel(\"Number of iterations\")\n",
    "plt.ylabel(\"Loss\")\n",
    "plt.show()"
   ]
  },
  {
   "cell_type": "markdown",
   "metadata": {},
   "source": [
    "here we tried 4000 iterations(we tried 1000 before on the same lambda=0.0001) to find the best weights and we got an accuracy on the training of 100%, so we will see which of them will have the best results on testing"
   ]
  },
  {
   "cell_type": "markdown",
   "metadata": {},
   "source": [
    "# Testing"
   ]
  },
  {
   "cell_type": "markdown",
   "metadata": {},
   "source": [
    "après avoir prédit  les données d'apprentissage, nous verrons comment notre algorithme se comportera face à de nouvelles données (données de test)."
   ]
  },
  {
   "cell_type": "code",
   "execution_count": 15,
   "metadata": {},
   "outputs": [
    {
     "data": {
      "text/plain": [
       "96.8013468013468"
      ]
     },
     "execution_count": 15,
     "metadata": {},
     "output_type": "execute_result"
    }
   ],
   "source": [
    "X1_test= np.ones((X_test.shape[0],X_test.shape[1]+1))\n",
    "X1_test[:,:-1] = X_test\n",
    "#we added a columns of 1's to the X_test\n",
    "prob_test,pred_test=get_prob_pred(X1_test,W)\n",
    "score(pred_test,y_test)"
   ]
  },
  {
   "cell_type": "markdown",
   "metadata": {},
   "source": [
    "Notre algorithme a correctement prédit 96,8% des nouvelles images, ce qui est un bon taux de précision, lorsque iteration=1000 et lambda=0.0001."
   ]
  },
  {
   "cell_type": "code",
   "execution_count": 16,
   "metadata": {},
   "outputs": [
    {
     "data": {
      "text/plain": [
       "96.8013468013468"
      ]
     },
     "execution_count": 16,
     "metadata": {},
     "output_type": "execute_result"
    }
   ],
   "source": [
    "prob_test,pred_test=get_prob_pred(X1_test,W1)\n",
    "score(pred_test,y_test)"
   ]
  },
  {
   "cell_type": "markdown",
   "metadata": {},
   "source": [
    "ici, on a vu que nb d'itération=4000 est mieux que 1000, parce que sa précision sur les données d'aprentissage est 100%, alors que leur précision sur l'ensemble de test était la même."
   ]
  },
  {
   "cell_type": "code",
   "execution_count": null,
   "metadata": {},
   "outputs": [],
   "source": []
  }
 ],
 "metadata": {
  "kernelspec": {
   "display_name": "Python 3",
   "language": "python",
   "name": "python3"
  },
  "language_info": {
   "codemirror_mode": {
    "name": "ipython",
    "version": 3
   },
   "file_extension": ".py",
   "mimetype": "text/x-python",
   "name": "python",
   "nbconvert_exporter": "python",
   "pygments_lexer": "ipython3",
   "version": "3.8.5"
  }
 },
 "nbformat": 4,
 "nbformat_minor": 4
}
